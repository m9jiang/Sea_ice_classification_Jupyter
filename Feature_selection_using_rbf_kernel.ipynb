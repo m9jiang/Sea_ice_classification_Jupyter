{
 "cells": [
  {
   "cell_type": "code",
   "execution_count": 6,
   "metadata": {},
   "outputs": [
    {
     "name": "stdout",
     "output_type": "stream",
     "text": [
      "[2 2 3 ... 2 2 2]\n",
      "(18000,)\n"
     ]
    }
   ],
   "source": [
    "import pandas as pd\n",
    "# label_csv = np.loadtxt(open('/content/gdrive/My Drive/Colab/Data/Labels.csv'\\\n",
    "#                             ,\"rb\"),delimiter=\",\",skiprows=0)\n",
    "label_column = pd.read_csv('F:\\DATA\\Journal_Date/21scenes/feature_generation_data_no_GT_arbitrary_samples_20190509/18_scenes/Labels.csv', \n",
    "                           header=None, usecols =[0])\n",
    "label = label_column.values.ravel()\n",
    "print(label)\n",
    "print(label.shape)\n",
    "feature = pd.read_csv('F:\\DATA\\Journal_Date/21scenes/feature_generation_data_no_GT_arbitrary_samples_20190509/18_scenes/Sample Data.csv',\n",
    "                      header=None, usecols=range(1,173))\n",
    "# print(feature)\n",
    "num_scene= 18"
   ]
  },
  {
   "cell_type": "code",
   "execution_count": 9,
   "metadata": {},
   "outputs": [
    {
     "name": "stdout",
     "output_type": "stream",
     "text": [
      "Best parameters set found on development set:\n",
      "\n",
      "{'n_estimators': 250}\n",
      "0.8364 (+/-0.1880) for {'n_estimators': 50}\n",
      "0.8374 (+/-0.1890) for {'n_estimators': 75}\n",
      "0.8378 (+/-0.1879) for {'n_estimators': 100}\n",
      "0.8374 (+/-0.1870) for {'n_estimators': 125}\n",
      "0.8385 (+/-0.1857) for {'n_estimators': 150}\n",
      "0.8382 (+/-0.1852) for {'n_estimators': 175}\n",
      "0.8377 (+/-0.1856) for {'n_estimators': 200}\n",
      "0.8381 (+/-0.1857) for {'n_estimators': 225}\n",
      "0.8392 (+/-0.1858) for {'n_estimators': 250}\n",
      "0.8391 (+/-0.1849) for {'n_estimators': 275}\n",
      "0.8386 (+/-0.1853) for {'n_estimators': 300}\n",
      "0.8388 (+/-0.1853) for {'n_estimators': 325}\n",
      "0.8392 (+/-0.1847) for {'n_estimators': 350}\n",
      "runtime:  0:17:21.863214\n"
     ]
    }
   ],
   "source": [
    "import datetime\n",
    "starttime = datetime.datetime.now()\n",
    "\n",
    "import pandas as pd\n",
    "import numpy as np\n",
    "from sklearn.ensemble import RandomForestClassifier\n",
    "from sklearn.model_selection import learning_curve, GridSearchCV\n",
    "from sklearn.model_selection import cross_validate\n",
    "from sklearn import metrics\n",
    "import matplotlib.pylab as plt\n",
    "from sklearn.model_selection import KFold\n",
    "\n",
    "n_estimators_grid = {'n_estimators':range(50,351,25)}\n",
    "\n",
    "GS_n_estimator = GridSearchCV(estimator = RandomForestClassifier(min_samples_split=2,\n",
    "                                                                 min_samples_leaf=1, max_depth=10, max_features='sqrt' ,random_state=0), \n",
    "                              n_jobs = -1, param_grid = n_estimators_grid, scoring = 'accuracy', cv = KFold(n_splits=num_scene, random_state=0))\n",
    "\n",
    "GS_n_estimator.fit(feature, label)\n",
    "\n",
    "print(\"Best parameters set found on development set:\")\n",
    "print()\n",
    "print(GS_n_estimator.best_params_)\n",
    "means = GS_n_estimator.cv_results_['mean_test_score']\n",
    "stds = GS_n_estimator.cv_results_['std_test_score']\n",
    "for mean, std, params in zip(means, stds, GS_n_estimator.cv_results_['params']):\n",
    "    print(\"%0.4f (+/-%0.04f) for %r\"\n",
    "          % (mean, std * 2, params))\n",
    "\n",
    "\n",
    "# GS_n_estimator.cv_results_ , GS_n_estimator.best_params_, GS_n_estimator.best_score_\n",
    "\n",
    "\n",
    "# RFmodel = RandomForestClassifier(n_estimators  = 200, oob_score = \"True\", n_jobs = -1, max_depth = 10, \n",
    "#                                 max_features = \"auto\", min_samples_leaf = 1, min_samples_split = 10)\n",
    "# RFmodel.fit(feature, label)\n",
    "# print(RFmodel.oob_score_)\n",
    "\n",
    "endtime = datetime.datetime.now()\n",
    "print(\"runtime: \", (endtime - starttime))"
   ]
  },
  {
   "cell_type": "code",
   "execution_count": null,
   "metadata": {},
   "outputs": [],
   "source": []
  }
 ],
 "metadata": {
  "kernelspec": {
   "display_name": "Python 3",
   "language": "python",
   "name": "python3"
  },
  "language_info": {
   "codemirror_mode": {
    "name": "ipython",
    "version": 3
   },
   "file_extension": ".py",
   "mimetype": "text/x-python",
   "name": "python",
   "nbconvert_exporter": "python",
   "pygments_lexer": "ipython3",
   "version": "3.7.3"
  }
 },
 "nbformat": 4,
 "nbformat_minor": 2
}
